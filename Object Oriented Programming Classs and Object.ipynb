{
 "cells": [
  {
   "cell_type": "code",
   "execution_count": 1,
   "id": "57b978f8",
   "metadata": {},
   "outputs": [],
   "source": [
    "# OOP --> Object Oriented Programming\n",
    "# Bind all the data together as a single unit, so that all the data point towards a single memory location. (memory management will be efficient)\n",
    "# Space complexity\n",
    "# Time complexity"
   ]
  },
  {
   "cell_type": "code",
   "execution_count": 2,
   "id": "c62f9a74",
   "metadata": {},
   "outputs": [],
   "source": [
    "# Class --> It is a blueprint/idea/illustration, that binds up all the data together.\n",
    "# Object --> It is the instance of the class"
   ]
  },
  {
   "cell_type": "code",
   "execution_count": 3,
   "id": "d7245bd0",
   "metadata": {},
   "outputs": [],
   "source": [
    "# I want to build a house\n",
    "# Design --> Paper --> Class\n",
    "# Rooms\n",
    "# Doors               Attributes\n",
    "# Windows\n",
    "# Switch Boards,etc.\n",
    "\n",
    "# By using that design,\n",
    "# When I actually built the house --> Object"
   ]
  },
  {
   "cell_type": "code",
   "execution_count": 4,
   "id": "b1a196e2",
   "metadata": {},
   "outputs": [],
   "source": [
    "# How to create a class--\n",
    "# class --> keyword, which is used to create classes\n",
    "# class className:"
   ]
  },
  {
   "cell_type": "code",
   "execution_count": 13,
   "id": "03786fc1",
   "metadata": {},
   "outputs": [],
   "source": [
    "class house:\n",
    "    def rooms(self,height, width):   # self --> instance variable(Very first argument,should be first only should not be used anywhere)\n",
    "        return height*width\n",
    "    def doors(AB,thickness, length):\n",
    "        return thickness+length"
   ]
  },
  {
   "cell_type": "code",
   "execution_count": 14,
   "id": "22d347a9",
   "metadata": {},
   "outputs": [],
   "source": [
    "# How to create an object\n",
    "# ObjectName = className()\n",
    "Home = house()"
   ]
  },
  {
   "cell_type": "code",
   "execution_count": 15,
   "id": "3cb178e1",
   "metadata": {},
   "outputs": [
    {
     "data": {
      "text/plain": [
       "975"
      ]
     },
     "execution_count": 15,
     "metadata": {},
     "output_type": "execute_result"
    }
   ],
   "source": [
    "Home.rooms(15,65)     #heigth is 15 and width is 65"
   ]
  },
  {
   "cell_type": "code",
   "execution_count": 16,
   "id": "12c3ae40",
   "metadata": {},
   "outputs": [
    {
     "data": {
      "text/plain": [
       "85"
      ]
     },
     "execution_count": 16,
     "metadata": {},
     "output_type": "execute_result"
    }
   ],
   "source": [
    "Home.doors(15,70)     #heigth is 15 and width is 65"
   ]
  },
  {
   "cell_type": "code",
   "execution_count": 17,
   "id": "65438fa4",
   "metadata": {},
   "outputs": [],
   "source": [
    "# Attributes --> Functions, variables defined inside a particular class\n",
    "# Method --> A function, if it is defined inside a class"
   ]
  },
  {
   "cell_type": "code",
   "execution_count": 19,
   "id": "dc56fd25",
   "metadata": {},
   "outputs": [],
   "source": [
    "class Calculator:\n",
    "    def add(self,a,b):\n",
    "        return a+b\n",
    "    def sub(self,a,b):\n",
    "        return a-b\n",
    "    def mul(self, a,b):\n",
    "        return a*b\n",
    "    def div(self, a,b):\n",
    "        return a/b"
   ]
  },
  {
   "cell_type": "code",
   "execution_count": 20,
   "id": "6b97031a",
   "metadata": {},
   "outputs": [],
   "source": [
    "obj = Calculator()"
   ]
  },
  {
   "cell_type": "code",
   "execution_count": 21,
   "id": "bd4c4933",
   "metadata": {},
   "outputs": [
    {
     "data": {
      "text/plain": [
       "15"
      ]
     },
     "execution_count": 21,
     "metadata": {},
     "output_type": "execute_result"
    }
   ],
   "source": [
    "obj.add(7,8)"
   ]
  },
  {
   "cell_type": "code",
   "execution_count": 22,
   "id": "164f7bf4",
   "metadata": {},
   "outputs": [
    {
     "data": {
      "text/plain": [
       "11"
      ]
     },
     "execution_count": 22,
     "metadata": {},
     "output_type": "execute_result"
    }
   ],
   "source": [
    "obj.sub(34,23)"
   ]
  },
  {
   "cell_type": "code",
   "execution_count": 23,
   "id": "e8123064",
   "metadata": {},
   "outputs": [
    {
     "data": {
      "text/plain": [
       "20"
      ]
     },
     "execution_count": 23,
     "metadata": {},
     "output_type": "execute_result"
    }
   ],
   "source": [
    "obj.mul(5,4)"
   ]
  },
  {
   "cell_type": "code",
   "execution_count": 24,
   "id": "4cf4fa29",
   "metadata": {},
   "outputs": [
    {
     "data": {
      "text/plain": [
       "3.6"
      ]
     },
     "execution_count": 24,
     "metadata": {},
     "output_type": "execute_result"
    }
   ],
   "source": [
    "obj.div(18,5)"
   ]
  },
  {
   "cell_type": "code",
   "execution_count": 25,
   "id": "ee07aef2",
   "metadata": {},
   "outputs": [],
   "source": [
    "#Global and local variables\n",
    "# Global Variables --> The variable whose scope is global.(A variable whose scope is global).\n",
    "# Local Variables --> The scope is local, and can be only used inside the function in which it is defined. (The scope is local and can be only used inside the function and be defined)"
   ]
  },
  {
   "cell_type": "code",
   "execution_count": 64,
   "id": "814062b5",
   "metadata": {},
   "outputs": [],
   "source": [
    "class A:\n",
    "    a = 15       # Global variable, defined outside the functions but inside the class\n",
    "    def fun1(self, p,q):\n",
    "        b = 3\n",
    "        print(b)\n",
    "        return p*q+self.a  # syntax for accessing a global variable--> self.variableName\n",
    "    def fun2(self, r=9):\n",
    "        b = 10    # Local Variable\n",
    "        print(b)\n",
    "        return 2*r*b"
   ]
  },
  {
   "cell_type": "code",
   "execution_count": 65,
   "id": "91fe746a",
   "metadata": {},
   "outputs": [],
   "source": [
    "o = A()"
   ]
  },
  {
   "cell_type": "code",
   "execution_count": 66,
   "id": "ebc8bbb1",
   "metadata": {},
   "outputs": [
    {
     "name": "stdout",
     "output_type": "stream",
     "text": [
      "3\n"
     ]
    },
    {
     "data": {
      "text/plain": [
       "35"
      ]
     },
     "execution_count": 66,
     "metadata": {},
     "output_type": "execute_result"
    }
   ],
   "source": [
    "o.fun1(5,4)"
   ]
  },
  {
   "cell_type": "code",
   "execution_count": 63,
   "id": "aa69d31c",
   "metadata": {},
   "outputs": [
    {
     "name": "stdout",
     "output_type": "stream",
     "text": [
      "10\n"
     ]
    },
    {
     "data": {
      "text/plain": [
       "100"
      ]
     },
     "execution_count": 63,
     "metadata": {},
     "output_type": "execute_result"
    }
   ],
   "source": [
    "o.fun2(5)"
   ]
  },
  {
   "cell_type": "code",
   "execution_count": 31,
   "id": "1ce14e4d",
   "metadata": {},
   "outputs": [
    {
     "data": {
      "text/plain": [
       "15"
      ]
     },
     "execution_count": 31,
     "metadata": {},
     "output_type": "execute_result"
    }
   ],
   "source": [
    "o.a"
   ]
  },
  {
   "cell_type": "code",
   "execution_count": 54,
   "id": "1e6f5a6d",
   "metadata": {},
   "outputs": [
    {
     "name": "stdout",
     "output_type": "stream",
     "text": [
      "10\n"
     ]
    },
    {
     "data": {
      "text/plain": [
       "100"
      ]
     },
     "execution_count": 54,
     "metadata": {},
     "output_type": "execute_result"
    }
   ],
   "source": [
    "A.fun2(o,5)"
   ]
  },
  {
   "cell_type": "code",
   "execution_count": 69,
   "id": "439ba025",
   "metadata": {},
   "outputs": [],
   "source": [
    "# Constructor --> In order to define the global variable.\n",
    "class ABC:\n",
    "    def __init__(self):  # creating a constructor(helping in creating link)\n",
    "        self.a = 'fruits'\n",
    "        print(self.a)"
   ]
  },
  {
   "cell_type": "code",
   "execution_count": 70,
   "id": "ed392abb",
   "metadata": {},
   "outputs": [
    {
     "name": "stdout",
     "output_type": "stream",
     "text": [
      "fruits\n"
     ]
    }
   ],
   "source": [
    "A = ABC()"
   ]
  },
  {
   "cell_type": "code",
   "execution_count": 71,
   "id": "84e178df",
   "metadata": {},
   "outputs": [],
   "source": [
    "# OOPs Concepts --> Abstraction, Encapsulation, Polymorphism, Inheritence\n",
    "#Abstraction --> Hide\n",
    "# Encapsulation --> Binding all the data together\n",
    "# Polymorphism --> Many forms\n",
    "# Method Overloading\n",
    "# Method Overriding"
   ]
  },
  {
   "cell_type": "code",
   "execution_count": 72,
   "id": "f07351ac",
   "metadata": {},
   "outputs": [],
   "source": [
    "class class1:\n",
    "    def fun1(self,a,b):\n",
    "        return a+b\n",
    "    def fun1(self, p,q,r):\n",
    "        return p+q+r"
   ]
  },
  {
   "cell_type": "code",
   "execution_count": 73,
   "id": "acc7601c",
   "metadata": {},
   "outputs": [],
   "source": [
    "ob = class1()"
   ]
  },
  {
   "cell_type": "code",
   "execution_count": 75,
   "id": "7da8cdd6",
   "metadata": {},
   "outputs": [
    {
     "data": {
      "text/plain": [
       "10"
      ]
     },
     "execution_count": 75,
     "metadata": {},
     "output_type": "execute_result"
    }
   ],
   "source": [
    "ob.fun1(2,3,5)"
   ]
  },
  {
   "cell_type": "code",
   "execution_count": null,
   "id": "e8ce40ad",
   "metadata": {},
   "outputs": [],
   "source": []
  }
 ],
 "metadata": {
  "kernelspec": {
   "display_name": "Python 3 (ipykernel)",
   "language": "python",
   "name": "python3"
  },
  "language_info": {
   "codemirror_mode": {
    "name": "ipython",
    "version": 3
   },
   "file_extension": ".py",
   "mimetype": "text/x-python",
   "name": "python",
   "nbconvert_exporter": "python",
   "pygments_lexer": "ipython3",
   "version": "3.9.13"
  }
 },
 "nbformat": 4,
 "nbformat_minor": 5
}
