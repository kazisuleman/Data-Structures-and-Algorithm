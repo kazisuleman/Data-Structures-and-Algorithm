{
 "cells": [
  {
   "cell_type": "code",
   "execution_count": 1,
   "id": "4cf617a6",
   "metadata": {},
   "outputs": [],
   "source": [
    "# Inheritence --> The capability of one class to derive/inherit from another class."
   ]
  },
  {
   "cell_type": "code",
   "execution_count": 2,
   "id": "5f5127d1",
   "metadata": {},
   "outputs": [],
   "source": [
    "# Parent class --> The class which is being inherited"
   ]
  },
  {
   "cell_type": "code",
   "execution_count": 3,
   "id": "882d5708",
   "metadata": {},
   "outputs": [],
   "source": [
    "# Child class --> The class which is inheriting another class."
   ]
  },
  {
   "cell_type": "code",
   "execution_count": 4,
   "id": "18682a5d",
   "metadata": {},
   "outputs": [],
   "source": [
    "# Single Inheritence\n",
    "# Multiple Inheritence\n",
    "# Multi-level Inheritence\n",
    "# Hierarchial Inheritence\n",
    "# Hybrid Inheritence"
   ]
  },
  {
   "cell_type": "code",
   "execution_count": 5,
   "id": "6f6d12e1",
   "metadata": {},
   "outputs": [],
   "source": [
    "# Single Inheritence --> One Parent class , One child class"
   ]
  },
  {
   "cell_type": "code",
   "execution_count": 13,
   "id": "5dd3cb8f",
   "metadata": {},
   "outputs": [],
   "source": [
    "class fruit:  # Parent class\n",
    "    def __init__(self):\n",
    "        self.p = 'Fruits'\n",
    "    def fun1(self):\n",
    "        a = 10\n",
    "        print('This is the function of parent class', self.p,a)"
   ]
  },
  {
   "cell_type": "code",
   "execution_count": 14,
   "id": "8c7ff83f",
   "metadata": {},
   "outputs": [],
   "source": [
    "class child1(fruit): # child class\n",
    "    def __init__(self):\n",
    "       fruit.__init__(self) #calling the constructor of parent class inside child class's const.\n",
    "    def fun2(self):\n",
    "        self.fun1()   # calling the function from parent class\n",
    "        print('This is  the function of child class')"
   ]
  },
  {
   "cell_type": "code",
   "execution_count": 15,
   "id": "f4575a17",
   "metadata": {},
   "outputs": [],
   "source": [
    "# You only need to create object for the child class.\n",
    "ob = child1()"
   ]
  },
  {
   "cell_type": "code",
   "execution_count": 16,
   "id": "a38c7709",
   "metadata": {},
   "outputs": [
    {
     "name": "stdout",
     "output_type": "stream",
     "text": [
      "This is the function of parent class Fruits 10\n",
      "This is  the function of child class\n"
     ]
    }
   ],
   "source": [
    "ob.fun2()"
   ]
  },
  {
   "cell_type": "code",
   "execution_count": 10,
   "id": "84489f92",
   "metadata": {},
   "outputs": [],
   "source": [
    "ob = fruit()"
   ]
  },
  {
   "cell_type": "code",
   "execution_count": 11,
   "id": "4f3475d8",
   "metadata": {},
   "outputs": [
    {
     "name": "stdout",
     "output_type": "stream",
     "text": [
      "This is the function of parent class Fruits\n"
     ]
    }
   ],
   "source": [
    "ob.fun1()"
   ]
  },
  {
   "cell_type": "code",
   "execution_count": 12,
   "id": "745b10a3",
   "metadata": {},
   "outputs": [
    {
     "ename": "AttributeError",
     "evalue": "'fruit' object has no attribute 'fun2'",
     "output_type": "error",
     "traceback": [
      "\u001b[1;31m---------------------------------------------------------------------------\u001b[0m",
      "\u001b[1;31mAttributeError\u001b[0m                            Traceback (most recent call last)",
      "Input \u001b[1;32mIn [12]\u001b[0m, in \u001b[0;36m<cell line: 1>\u001b[1;34m()\u001b[0m\n\u001b[1;32m----> 1\u001b[0m \u001b[43mob\u001b[49m\u001b[38;5;241;43m.\u001b[39;49m\u001b[43mfun2\u001b[49m()\n",
      "\u001b[1;31mAttributeError\u001b[0m: 'fruit' object has no attribute 'fun2'"
     ]
    }
   ],
   "source": [
    "ob.fun2()"
   ]
  },
  {
   "cell_type": "code",
   "execution_count": 19,
   "id": "5daabd3b",
   "metadata": {},
   "outputs": [],
   "source": [
    "class male:\n",
    "    def __init__(self):\n",
    "        pass\n",
    "    def eat(self):\n",
    "        print('The person can eat')\n",
    "    def sleep(self):\n",
    "        print('The person can sleep')"
   ]
  },
  {
   "cell_type": "code",
   "execution_count": 20,
   "id": "d0faaeba",
   "metadata": {},
   "outputs": [],
   "source": [
    "class male1(male):\n",
    "    def __init__(self):\n",
    "        male.__init__(self)\n",
    "    def profession(self,a):\n",
    "        print('The profession of the individual is ', a)\n",
    "        self.eat()\n",
    "        self.sleep()"
   ]
  },
  {
   "cell_type": "code",
   "execution_count": 21,
   "id": "7dfddd4e",
   "metadata": {},
   "outputs": [],
   "source": [
    "obj = male1()"
   ]
  },
  {
   "cell_type": "code",
   "execution_count": 22,
   "id": "37bf2a01",
   "metadata": {},
   "outputs": [
    {
     "name": "stdout",
     "output_type": "stream",
     "text": [
      "The profession of the individual is  Teacher\n",
      "The person can eat\n",
      "The person can sleep\n"
     ]
    }
   ],
   "source": [
    "obj.profession('Teacher')"
   ]
  },
  {
   "cell_type": "code",
   "execution_count": 23,
   "id": "94cdd969",
   "metadata": {},
   "outputs": [],
   "source": [
    "# Multiple Inheritence --> Multiple parent class, single child class"
   ]
  },
  {
   "cell_type": "code",
   "execution_count": 24,
   "id": "bdebcae4",
   "metadata": {},
   "outputs": [],
   "source": [
    "class A:\n",
    "    def __init__(self):\n",
    "        print('This is class A')\n",
    "    def fun1(self):\n",
    "        print('This is the function of class A')\n",
    "class B:\n",
    "    def __init__(self):\n",
    "        print('This is class B')\n",
    "    def fun2(self):\n",
    "        print('This is the function of class B')\n",
    "        \n",
    "class C(A,B):\n",
    "    def __init__(self):\n",
    "        A.__init__(self)\n",
    "        B.__init__(self)\n",
    "        print('This is class C')\n",
    "    def fun3(self):\n",
    "        self.fun1()\n",
    "        self.fun2()\n",
    "        print('This is the function of class C')"
   ]
  },
  {
   "cell_type": "code",
   "execution_count": 25,
   "id": "5ae6a11d",
   "metadata": {},
   "outputs": [
    {
     "name": "stdout",
     "output_type": "stream",
     "text": [
      "This is class A\n",
      "This is class B\n",
      "This is class C\n"
     ]
    }
   ],
   "source": [
    "o = C()"
   ]
  },
  {
   "cell_type": "code",
   "execution_count": 26,
   "id": "9b4c73a9",
   "metadata": {},
   "outputs": [
    {
     "name": "stdout",
     "output_type": "stream",
     "text": [
      "This is the function of class A\n",
      "This is the function of class B\n",
      "This is the function of class C\n"
     ]
    }
   ],
   "source": [
    "o.fun3()"
   ]
  },
  {
   "cell_type": "code",
   "execution_count": 41,
   "id": "053e3e46",
   "metadata": {},
   "outputs": [],
   "source": [
    "class Automobiles:\n",
    "    def __init__(self):\n",
    "        pass\n",
    "    def price(self,a):\n",
    "        print('The range is', a)"
   ]
  },
  {
   "cell_type": "code",
   "execution_count": 42,
   "id": "16cdde0a",
   "metadata": {},
   "outputs": [],
   "source": [
    "class Vehicles:\n",
    "    def __init__(self):\n",
    "        pass\n",
    "    def country(self,b):\n",
    "        print('The country from which you want to buy the vehicle', b)"
   ]
  },
  {
   "cell_type": "code",
   "execution_count": 49,
   "id": "b06d6ac4",
   "metadata": {},
   "outputs": [],
   "source": [
    "class car(Automobiles, Vehicles):\n",
    "    def __init__(self):\n",
    "        Automobiles.__init__(self)\n",
    "        Vehicles.__init__(self)\n",
    "    def brand(self,c):\n",
    "        self.price(input())\n",
    "        self.country(input())\n",
    "        print('The brand which you are looking for is:',c )"
   ]
  },
  {
   "cell_type": "code",
   "execution_count": 50,
   "id": "bd6e8314",
   "metadata": {},
   "outputs": [],
   "source": [
    "c = car()"
   ]
  },
  {
   "cell_type": "code",
   "execution_count": 51,
   "id": "a821d1d3",
   "metadata": {},
   "outputs": [
    {
     "name": "stdout",
     "output_type": "stream",
     "text": [
      "7lakhs\n",
      "The range is 7lakhs\n",
      "Germany\n",
      "The country from which you want to buy the vehicle Germany\n",
      "The brand which you are looking for is: Ford\n"
     ]
    }
   ],
   "source": [
    "c.brand('Ford')"
   ]
  },
  {
   "cell_type": "code",
   "execution_count": 52,
   "id": "e24165fb",
   "metadata": {},
   "outputs": [],
   "source": [
    "# Multi-level Inheritence\n",
    "# class A     -- grandparent\n",
    "# class B(A)  -- parent\n",
    "# class C(B)  -- child"
   ]
  },
  {
   "cell_type": "code",
   "execution_count": 64,
   "id": "5030369f",
   "metadata": {},
   "outputs": [],
   "source": [
    "class A:\n",
    "    def __init__(self):\n",
    "        print('This is class A')\n",
    "    def fun1(self):\n",
    "        print('This is the function of A')\n",
    "class B(A):\n",
    "    def __init__(self):\n",
    "        A.__init__(self)\n",
    "        print('This is class B')\n",
    "class C(B):\n",
    "    def __init__(self):\n",
    "        B.__init__(self)\n",
    "#        self.A()\n",
    "        print('This is class C')"
   ]
  },
  {
   "cell_type": "code",
   "execution_count": 57,
   "id": "a70d37ae",
   "metadata": {},
   "outputs": [
    {
     "name": "stdout",
     "output_type": "stream",
     "text": [
      "This is class A\n",
      "This is class B\n"
     ]
    }
   ],
   "source": [
    "o1 = B()"
   ]
  },
  {
   "cell_type": "code",
   "execution_count": 65,
   "id": "dcc86614",
   "metadata": {},
   "outputs": [
    {
     "name": "stdout",
     "output_type": "stream",
     "text": [
      "This is class A\n",
      "This is class B\n",
      "This is class C\n"
     ]
    }
   ],
   "source": [
    "o2 = C()"
   ]
  },
  {
   "cell_type": "code",
   "execution_count": 66,
   "id": "6b683068",
   "metadata": {},
   "outputs": [
    {
     "name": "stdout",
     "output_type": "stream",
     "text": [
      "This is the function of A\n"
     ]
    }
   ],
   "source": [
    "o2.fun1()"
   ]
  },
  {
   "cell_type": "code",
   "execution_count": 59,
   "id": "44d904f0",
   "metadata": {},
   "outputs": [],
   "source": [
    "class A:\n",
    "    a = 5\n",
    "    def __init__(self):\n",
    "        print('This is class A')\n",
    "    def funA(self):\n",
    "        print('This is a function of class A')\n",
    "\n",
    "class B(A):\n",
    "    b = 10\n",
    "    def __init__(self):\n",
    "        A.__init__(self)\n",
    "        print('This is class B')\n",
    "\n",
    "class C(B):\n",
    "    def __init__(self):\n",
    "        B.__init__(self)\n",
    "        print('This is class C')\n"
   ]
  },
  {
   "cell_type": "code",
   "execution_count": 60,
   "id": "6d22b31a",
   "metadata": {},
   "outputs": [
    {
     "name": "stdout",
     "output_type": "stream",
     "text": [
      "This is class A\n",
      "This is class B\n",
      "This is class C\n"
     ]
    }
   ],
   "source": [
    "obj_c = C()\n"
   ]
  },
  {
   "cell_type": "code",
   "execution_count": 61,
   "id": "a3ecca57",
   "metadata": {},
   "outputs": [
    {
     "name": "stdout",
     "output_type": "stream",
     "text": [
      "This is a function of class A\n"
     ]
    }
   ],
   "source": [
    "obj_c.funA()\n"
   ]
  },
  {
   "cell_type": "code",
   "execution_count": 62,
   "id": "d8c10cc9",
   "metadata": {},
   "outputs": [
    {
     "data": {
      "text/plain": [
       "['__class__',\n",
       " '__delattr__',\n",
       " '__dict__',\n",
       " '__dir__',\n",
       " '__doc__',\n",
       " '__eq__',\n",
       " '__format__',\n",
       " '__ge__',\n",
       " '__getattribute__',\n",
       " '__gt__',\n",
       " '__hash__',\n",
       " '__init__',\n",
       " '__init_subclass__',\n",
       " '__le__',\n",
       " '__lt__',\n",
       " '__module__',\n",
       " '__ne__',\n",
       " '__new__',\n",
       " '__reduce__',\n",
       " '__reduce_ex__',\n",
       " '__repr__',\n",
       " '__setattr__',\n",
       " '__sizeof__',\n",
       " '__str__',\n",
       " '__subclasshook__',\n",
       " '__weakref__',\n",
       " 'a',\n",
       " 'b',\n",
       " 'funA']"
      ]
     },
     "execution_count": 62,
     "metadata": {},
     "output_type": "execute_result"
    }
   ],
   "source": [
    "dir(obj_c)\n"
   ]
  },
  {
   "cell_type": "code",
   "execution_count": 67,
   "id": "c673b105",
   "metadata": {},
   "outputs": [],
   "source": [
    "# Hierarchial Inheritence --> Multiple child classes, a single parent class."
   ]
  },
  {
   "cell_type": "code",
   "execution_count": 10,
   "id": "8e162255",
   "metadata": {},
   "outputs": [],
   "source": [
    "class A:\n",
    "    def __init__(self):\n",
    "        print('class A')\n",
    "    def fun1(self):\n",
    "        print(\"class A's function\")\n",
    "class B(A):\n",
    "    def __init__(self):\n",
    "        A.__init__(self)\n",
    "        print('class B')\n",
    "    def fun2(self):\n",
    "        self.fun1()\n",
    "class C(A):\n",
    "    def __init__(self):\n",
    "        A.__init__(self)\n",
    "        print('class C')\n",
    "    def fun1(self):\n",
    "        A.fun1(self)"
   ]
  },
  {
   "cell_type": "code",
   "execution_count": 11,
   "id": "928c14fd",
   "metadata": {},
   "outputs": [
    {
     "name": "stdout",
     "output_type": "stream",
     "text": [
      "class A\n",
      "class B\n"
     ]
    }
   ],
   "source": [
    "ob1 = B()"
   ]
  },
  {
   "cell_type": "code",
   "execution_count": 12,
   "id": "b9a27736",
   "metadata": {},
   "outputs": [
    {
     "name": "stdout",
     "output_type": "stream",
     "text": [
      "class A's function\n"
     ]
    }
   ],
   "source": [
    "ob1.fun2()"
   ]
  },
  {
   "cell_type": "code",
   "execution_count": 13,
   "id": "174d49b2",
   "metadata": {},
   "outputs": [
    {
     "name": "stdout",
     "output_type": "stream",
     "text": [
      "class A\n",
      "class C\n"
     ]
    }
   ],
   "source": [
    "o2= C()"
   ]
  },
  {
   "cell_type": "code",
   "execution_count": 14,
   "id": "e339a313",
   "metadata": {},
   "outputs": [
    {
     "name": "stdout",
     "output_type": "stream",
     "text": [
      "class A's function\n"
     ]
    }
   ],
   "source": [
    "o2.fun1()"
   ]
  },
  {
   "cell_type": "code",
   "execution_count": 15,
   "id": "86f660ae",
   "metadata": {},
   "outputs": [],
   "source": [
    "# Hybrid Inheritence --> When there are two types of inheritences occuring together."
   ]
  },
  {
   "cell_type": "code",
   "execution_count": 22,
   "id": "fa6de0fa",
   "metadata": {},
   "outputs": [],
   "source": [
    "class A:\n",
    "    def __init__(self):\n",
    "        print('This is class A')\n",
    "    def fun1(self):\n",
    "        print('This is the function of A')\n",
    "class B(A):\n",
    "    def __init__(self):\n",
    "        A.__init__(self)\n",
    "        print('This is class B')   #  Multi-level + Multiple Inheritence\n",
    "class C(B,A):\n",
    "    def __init__(self):\n",
    "        B.__init__(self)\n",
    "        self.fun1()\n",
    "        print('This is class C')"
   ]
  },
  {
   "cell_type": "code",
   "execution_count": 23,
   "id": "4ce90608",
   "metadata": {},
   "outputs": [
    {
     "name": "stdout",
     "output_type": "stream",
     "text": [
      "This is class A\n",
      "This is class B\n",
      "This is the function of A\n",
      "This is class C\n"
     ]
    }
   ],
   "source": [
    "obj = C()"
   ]
  },
  {
   "cell_type": "code",
   "execution_count": 24,
   "id": "03efde96",
   "metadata": {},
   "outputs": [],
   "source": [
    "# Create a class named BankAccount\n",
    "# 1st Function --> check_balance()--> To print the main balance of the user's account\n",
    "# 2nd deposit(damt) --> To add the amount in main_balance\n",
    "# 3rd withdraw(wamt) --> To withdraw the amount from main_balance"
   ]
  },
  {
   "cell_type": "code",
   "execution_count": 31,
   "id": "ebf61a9e",
   "metadata": {},
   "outputs": [
    {
     "name": "stdout",
     "output_type": "stream",
     "text": [
      "7000\n"
     ]
    }
   ],
   "source": [
    "class BankAccount:\n",
    "    main_balance = int(input())\n",
    "    def check_balance(self):\n",
    "        print('The current amount is: ', self.main_balance)\n",
    "    def deposit(self, damt):\n",
    "        self.main_balance = self.main_balance+damt\n",
    "        print('The new amount is:', self.main_balance)\n",
    "    def withdraw(self,wamt):\n",
    "        self.main_balance = self.main_balance - wamt\n",
    "        print('The remaining amount is: ', self.main_balance)"
   ]
  },
  {
   "cell_type": "code",
   "execution_count": 32,
   "id": "8e08c1c1",
   "metadata": {},
   "outputs": [],
   "source": [
    "person = BankAccount()"
   ]
  },
  {
   "cell_type": "code",
   "execution_count": 34,
   "id": "230bf4d9",
   "metadata": {},
   "outputs": [
    {
     "name": "stdout",
     "output_type": "stream",
     "text": [
      "5000\n",
      "The new amount is: 12000\n"
     ]
    }
   ],
   "source": [
    "person.deposit(int(input()))"
   ]
  },
  {
   "cell_type": "code",
   "execution_count": 33,
   "id": "d45ac6f9",
   "metadata": {},
   "outputs": [
    {
     "name": "stdout",
     "output_type": "stream",
     "text": [
      "The current amount is:  7000\n"
     ]
    }
   ],
   "source": [
    "person.check_balance()"
   ]
  },
  {
   "cell_type": "code",
   "execution_count": 35,
   "id": "85afcd4e",
   "metadata": {},
   "outputs": [
    {
     "name": "stdout",
     "output_type": "stream",
     "text": [
      "8000\n",
      "The remaining amount is:  4000\n"
     ]
    }
   ],
   "source": [
    "person.withdraw(int(input()))"
   ]
  },
  {
   "cell_type": "code",
   "execution_count": 40,
   "id": "8bb9e5a4",
   "metadata": {},
   "outputs": [],
   "source": [
    "from abc import ABC"
   ]
  },
  {
   "cell_type": "code",
   "execution_count": 45,
   "id": "6f960a86",
   "metadata": {},
   "outputs": [],
   "source": [
    "class bankaccount:\n",
    "    main_balance=0    \n",
    "    def check_balance(self):\n",
    "        print('current Balance is --',self.main_balance)\n",
    "    def depost(self,damt):\n",
    "        self.main_balance +=damt\n",
    "        print('new Balance is --',self.main_balance)\n",
    "    def withdraw(self,wamt):\n",
    "        self.main_balance -=wamt\n",
    "        print('new Balance is --',self.main_balance)\n"
   ]
  },
  {
   "cell_type": "code",
   "execution_count": 46,
   "id": "1a1d2922",
   "metadata": {},
   "outputs": [],
   "source": [
    "o1 = bankaccount()"
   ]
  },
  {
   "cell_type": "code",
   "execution_count": 47,
   "id": "fab93220",
   "metadata": {},
   "outputs": [
    {
     "name": "stdout",
     "output_type": "stream",
     "text": [
      "new Balance is -- 3000\n"
     ]
    }
   ],
   "source": [
    "o1.depost(3000)"
   ]
  },
  {
   "cell_type": "code",
   "execution_count": 48,
   "id": "254673f8",
   "metadata": {},
   "outputs": [
    {
     "name": "stdout",
     "output_type": "stream",
     "text": [
      "new Balance is -- 1000\n"
     ]
    }
   ],
   "source": [
    "o1.withdraw(2000)"
   ]
  },
  {
   "cell_type": "code",
   "execution_count": 65,
   "id": "e23cea1c",
   "metadata": {},
   "outputs": [],
   "source": [
    "class Bank:\n",
    "    def __init__(self):\n",
    "        self.main_balance = 0\n",
    "    def chkblnc(a):\n",
    "        print(\"Balance is \", a.main_balance)\n",
    "        return a.main_balance\n",
    "    def damt(self):\n",
    "        return self.main_balance + int(input())\n",
    "    def wamt(self):\n",
    "        return self.main_balance - int(input())\n"
   ]
  },
  {
   "cell_type": "code",
   "execution_count": 66,
   "id": "8f25a1ca",
   "metadata": {},
   "outputs": [],
   "source": [
    "ob = Bank()"
   ]
  },
  {
   "cell_type": "code",
   "execution_count": 67,
   "id": "949f5dbd",
   "metadata": {},
   "outputs": [
    {
     "name": "stdout",
     "output_type": "stream",
     "text": [
      "Balance is  0\n"
     ]
    },
    {
     "data": {
      "text/plain": [
       "0"
      ]
     },
     "execution_count": 67,
     "metadata": {},
     "output_type": "execute_result"
    }
   ],
   "source": [
    "ob.chkblnc()"
   ]
  },
  {
   "cell_type": "code",
   "execution_count": 68,
   "id": "a31a374f",
   "metadata": {},
   "outputs": [
    {
     "name": "stdout",
     "output_type": "stream",
     "text": [
      "3000\n"
     ]
    },
    {
     "data": {
      "text/plain": [
       "3000"
      ]
     },
     "execution_count": 68,
     "metadata": {},
     "output_type": "execute_result"
    }
   ],
   "source": [
    "ob.damt()"
   ]
  },
  {
   "cell_type": "code",
   "execution_count": 69,
   "id": "a3255a9e",
   "metadata": {},
   "outputs": [
    {
     "name": "stdout",
     "output_type": "stream",
     "text": [
      "2000\n"
     ]
    },
    {
     "data": {
      "text/plain": [
       "-2000"
      ]
     },
     "execution_count": 69,
     "metadata": {},
     "output_type": "execute_result"
    }
   ],
   "source": [
    "ob.wamt()"
   ]
  },
  {
   "cell_type": "code",
   "execution_count": null,
   "id": "57ea9e99",
   "metadata": {},
   "outputs": [],
   "source": []
  }
 ],
 "metadata": {
  "kernelspec": {
   "display_name": "Python 3 (ipykernel)",
   "language": "python",
   "name": "python3"
  },
  "language_info": {
   "codemirror_mode": {
    "name": "ipython",
    "version": 3
   },
   "file_extension": ".py",
   "mimetype": "text/x-python",
   "name": "python",
   "nbconvert_exporter": "python",
   "pygments_lexer": "ipython3",
   "version": "3.9.13"
  }
 },
 "nbformat": 4,
 "nbformat_minor": 5
}
